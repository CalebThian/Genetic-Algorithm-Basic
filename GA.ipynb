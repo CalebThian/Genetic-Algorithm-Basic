{
 "cells": [
  {
   "cell_type": "code",
   "execution_count": 1,
   "id": "70495248",
   "metadata": {},
   "outputs": [],
   "source": [
    "import numpy as np# Imports \n",
    "import numpy as np\n",
    "import random\n",
    "from datetime import datetime\n",
    "import matplotlib.pyplot as plt"
   ]
  },
  {
   "cell_type": "code",
   "execution_count": 2,
   "id": "6801df23",
   "metadata": {},
   "outputs": [],
   "source": [
    "# Parameters\n",
    "n_cities = 10\n",
    "n_population = 100\n",
    "mutation_rate = 0.3"
   ]
  },
  {
   "cell_type": "code",
   "execution_count": 3,
   "id": "ee68f7a9",
   "metadata": {},
   "outputs": [
    {
     "data": {
      "text/plain": [
       "{'A': [1, 12],\n",
       " 'B': [19, 6],\n",
       " 'C': [2, 15],\n",
       " 'D': [3, 3],\n",
       " 'E': [1, 7],\n",
       " 'F': [18, 11],\n",
       " 'G': [0, 4],\n",
       " 'H': [7, 0],\n",
       " 'I': [4, 17],\n",
       " 'J': [16, 8]}"
      ]
     },
     "execution_count": 3,
     "metadata": {},
     "output_type": "execute_result"
    }
   ],
   "source": [
    "# Generating a list of coordenades representing each city\n",
    "coordinates_list = [[x,y] for x,y in zip(np.random.randint(0,20,n_cities),np.random.randint(0,20,n_cities))]\n",
    "city = []\n",
    "for i in range(n_cities):\n",
    "    city.append(chr(ord('A') + i)) \n",
    "names_list = np.array(city)\n",
    "cities_dict = { x:y for x,y in zip(names_list,coordinates_list)}\n",
    "\n",
    "# Function to compute the distance between two points\n",
    "def compute_city_distance_coordinates(a,b):\n",
    "    return ((a[0]-b[0])**2+(a[1]-b[1])**2)**0.5\n",
    "\n",
    "def compute_city_distance_names(city_a, city_b, cities_dict):\n",
    "    return compute_city_distance_coordinates(cities_dict[city_a], cities_dict[city_b])\n",
    "\n",
    "cities_dict"
   ]
  },
  {
   "cell_type": "code",
   "execution_count": 4,
   "id": "45208409",
   "metadata": {},
   "outputs": [
    {
     "data": {
      "image/png": "[encoded data removed]",
      "text/plain": [
       "<Figure size 720x720 with 1 Axes>"
      ]
     },
     "metadata": {
      "needs_background": "light"
     },
     "output_type": "display_data"
    }
   ],
   "source": [
    "def draw_map(cities_dict,route = []):\n",
    "    x = []\n",
    "    y = []\n",
    "    cities = []\n",
    "    for city,coor in cities_dict.items():\n",
    "        x.append(coor[0])\n",
    "        y.append(coor[1])\n",
    "        cities.append(city)\n",
    "    draw_scatterplot(x,y,cities)\n",
    "    \n",
    "    if len(route) != 0:\n",
    "        plt.ion()\n",
    "        plt.show()\n",
    "        ims = []\n",
    "        for i in range(len(route)-1):\n",
    "            d_x = [cities_dict[route[i]][0],cities_dict[route[i+1]][0]]\n",
    "            d_y = [cities_dict[route[i]][1],cities_dict[route[i+1]][1]]\n",
    "            plt.plot(d_x,d_y)\n",
    "\n",
    "            distance = compute_city_distance_names(route[i], route[i+1], cities_dict)\n",
    "            distance = str(round(distance,2))\n",
    "            \n",
    "            plt.annotate(distance, (0.5*(d_x[0]+d_x[1])+1,0.5*(d_y[0]+d_y[1])+1))\n",
    "            \n",
    "        for i,city in enumerate(route):\n",
    "            plt.annotate(str(i)+\". \"+city, (cities_dict[route[i]][0], cities_dict[route[i]][1]))\n",
    "    else:\n",
    "        for i,city in enumerate(cities):\n",
    "            plt.annotate(city, (x[i], y[i]))\n",
    "        plt.show()\n",
    "    \n",
    "    \n",
    "def draw_scatterplot(x_values, y_values,cities):\n",
    "    plt.figure(figsize=(10,10))\n",
    "    plt.scatter(x_values, y_values, s=20)\n",
    "    plt.title(\"Scatter Plot\")\n",
    "    plt.xlabel(\"x values\")\n",
    "    plt.ylabel(\"y values\")\n",
    "\n",
    "draw_map(cities_dict)"
   ]
  },
  {
   "cell_type": "code",
   "execution_count": 5,
   "id": "739a38be",
   "metadata": {},
   "outputs": [
    {
     "data": {
      "text/plain": [
       "array([['H', 'D', 'E', 'A', 'G', 'F', 'B', 'I', 'J', 'C'],\n",
       "       ['H', 'B', 'G', 'D', 'E', 'I', 'C', 'J', 'F', 'A'],\n",
       "       ['C', 'G', 'B', 'D', 'J', 'H', 'E', 'I', 'A', 'F'],\n",
       "       ['B', 'E', 'G', 'I', 'D', 'C', 'F', 'H', 'A', 'J'],\n",
       "       ['I', 'D', 'C', 'E', 'B', 'G', 'H', 'A', 'F', 'J'],\n",
       "       ['G', 'D', 'B', 'A', 'J', 'I', 'H', 'F', 'C', 'E'],\n",
       "       ['C', 'J', 'G', 'I', 'A', 'D', 'E', 'F', 'B', 'H'],\n",
       "       ['I', 'C', 'J', 'B', 'A', 'H', 'F', 'G', 'E', 'D'],\n",
       "       ['A', 'D', 'J', 'H', 'F', 'I', 'C', 'G', 'B', 'E'],\n",
       "       ['H', 'J', 'B', 'A', 'D', 'F', 'G', 'I', 'E', 'C'],\n",
       "       ['C', 'J', 'B', 'F', 'E', 'A', 'G', 'D', 'I', 'H'],\n",
       "       ['H', 'C', 'E', 'B', 'I', 'G', 'A', 'D', 'J', 'F'],\n",
       "       ['J', 'C', 'F', 'D', 'A', 'E', 'H', 'I', 'G', 'B'],\n",
       "       ['I', 'G', 'C', 'E', 'J', 'F', 'D', 'H', 'B', 'A'],\n",
       "       ['D', 'C', 'E', 'B', 'J', 'A', 'H', 'I', 'G', 'F'],\n",
       "       ['G', 'D', 'F', 'C', 'H', 'J', 'I', 'B', 'E', 'A'],\n",
       "       ['F', 'A', 'E', 'I', 'J', 'D', 'G', 'C', 'B', 'H'],\n",
       "       ['G', 'B', 'D', 'C', 'I', 'E', 'J', 'H', 'A', 'F'],\n",
       "       ['D', 'F', 'I', 'E', 'G', 'J', 'H', 'C', 'B', 'A'],\n",
       "       ['H', 'J', 'G', 'B', 'C', 'D', 'E', 'I', 'F', 'A'],\n",
       "       ['E', 'D', 'C', 'G', 'A', 'F', 'J', 'I', 'H', 'B'],\n",
       "       ['E', 'H', 'J', 'A', 'D', 'F', 'C', 'I', 'G', 'B'],\n",
       "       ['A', 'D', 'E', 'J', 'G', 'B', 'H', 'F', 'C', 'I'],\n",
       "       ['E', 'C', 'B', 'A', 'H', 'J', 'I', 'D', 'G', 'F'],\n",
       "       ['D', 'C', 'H', 'B', 'G', 'J', 'A', 'I', 'E', 'F'],\n",
       "       ['A', 'F', 'C', 'H', 'B', 'I', 'G', 'E', 'J', 'D'],\n",
       "       ['D', 'F', 'I', 'G', 'H', 'B', 'C', 'J', 'E', 'A'],\n",
       "       ['G', 'D', 'J', 'I', 'C', 'H', 'F', 'A', 'B', 'E'],\n",
       "       ['H', 'E', 'D', 'J', 'I', 'C', 'G', 'B', 'F', 'A'],\n",
       "       ['A', 'F', 'C', 'G', 'J', 'D', 'B', 'H', 'E', 'I'],\n",
       "       ['F', 'D', 'A', 'J', 'C', 'B', 'I', 'H', 'E', 'G'],\n",
       "       ['A', 'H', 'F', 'I', 'B', 'E', 'D', 'G', 'C', 'J'],\n",
       "       ['E', 'F', 'J', 'H', 'A', 'D', 'G', 'C', 'B', 'I'],\n",
       "       ['G', 'A', 'H', 'E', 'I', 'J', 'B', 'D', 'F', 'C'],\n",
       "       ['C', 'D', 'A', 'B', 'E', 'J', 'I', 'G', 'H', 'F'],\n",
       "       ['H', 'C', 'A', 'B', 'G', 'F', 'D', 'I', 'E', 'J'],\n",
       "       ['B', 'D', 'I', 'A', 'F', 'J', 'E', 'H', 'C', 'G'],\n",
       "       ['E', 'H', 'J', 'B', 'D', 'C', 'I', 'G', 'F', 'A'],\n",
       "       ['B', 'C', 'J', 'E', 'F', 'H', 'I', 'A', 'G', 'D'],\n",
       "       ['E', 'F', 'H', 'I', 'C', 'A', 'J', 'D', 'B', 'G'],\n",
       "       ['D', 'G', 'B', 'J', 'C', 'E', 'H', 'I', 'A', 'F'],\n",
       "       ['H', 'B', 'J', 'I', 'A', 'C', 'F', 'G', 'D', 'E'],\n",
       "       ['E', 'I', 'G', 'C', 'J', 'A', 'F', 'D', 'B', 'H'],\n",
       "       ['F', 'B', 'I', 'E', 'H', 'A', 'G', 'J', 'D', 'C'],\n",
       "       ['I', 'B', 'G', 'H', 'C', 'F', 'D', 'J', 'E', 'A'],\n",
       "       ['C', 'I', 'J', 'G', 'E', 'A', 'D', 'H', 'F', 'B'],\n",
       "       ['J', 'B', 'I', 'H', 'F', 'G', 'E', 'D', 'C', 'A'],\n",
       "       ['D', 'H', 'A', 'B', 'F', 'I', 'G', 'C', 'J', 'E'],\n",
       "       ['F', 'E', 'H', 'G', 'D', 'J', 'A', 'I', 'B', 'C'],\n",
       "       ['E', 'I', 'D', 'F', 'J', 'A', 'G', 'B', 'C', 'H'],\n",
       "       ['I', 'H', 'F', 'D', 'A', 'C', 'B', 'G', 'J', 'E'],\n",
       "       ['E', 'I', 'B', 'F', 'C', 'A', 'G', 'H', 'D', 'J'],\n",
       "       ['I', 'H', 'C', 'E', 'G', 'F', 'B', 'D', 'J', 'A'],\n",
       "       ['D', 'E', 'G', 'H', 'A', 'F', 'I', 'J', 'C', 'B'],\n",
       "       ['F', 'D', 'I', 'G', 'A', 'B', 'C', 'J', 'E', 'H'],\n",
       "       ['I', 'G', 'C', 'A', 'D', 'E', 'H', 'F', 'B', 'J'],\n",
       "       ['J', 'I', 'C', 'B', 'E', 'G', 'H', 'A', 'F', 'D'],\n",
       "       ['A', 'G', 'C', 'D', 'J', 'I', 'B', 'F', 'H', 'E'],\n",
       "       ['I', 'C', 'D', 'H', 'B', 'E', 'J', 'F', 'G', 'A'],\n",
       "       ['G', 'A', 'H', 'D', 'J', 'B', 'F', 'E', 'I', 'C'],\n",
       "       ['E', 'C', 'J', 'G', 'H', 'D', 'I', 'B', 'F', 'A'],\n",
       "       ['J', 'F', 'I', 'G', 'D', 'B', 'H', 'E', 'A', 'C'],\n",
       "       ['I', 'F', 'H', 'B', 'J', 'E', 'D', 'C', 'G', 'A'],\n",
       "       ['B', 'E', 'J', 'A', 'C', 'I', 'H', 'G', 'F', 'D'],\n",
       "       ['A', 'G', 'D', 'F', 'H', 'E', 'J', 'C', 'I', 'B'],\n",
       "       ['A', 'B', 'C', 'J', 'G', 'F', 'I', 'H', 'E', 'D'],\n",
       "       ['J', 'C', 'D', 'F', 'H', 'I', 'A', 'G', 'B', 'E'],\n",
       "       ['B', 'G', 'I', 'D', 'H', 'J', 'E', 'C', 'F', 'A'],\n",
       "       ['G', 'I', 'D', 'J', 'C', 'F', 'A', 'E', 'B', 'H'],\n",
       "       ['G', 'D', 'A', 'I', 'H', 'B', 'J', 'C', 'E', 'F'],\n",
       "       ['I', 'F', 'A', 'G', 'E', 'J', 'C', 'H', 'D', 'B'],\n",
       "       ['E', 'F', 'A', 'J', 'C', 'D', 'G', 'B', 'I', 'H'],\n",
       "       ['I', 'G', 'J', 'F', 'B', 'A', 'H', 'C', 'E', 'D'],\n",
       "       ['C', 'H', 'A', 'B', 'J', 'E', 'G', 'D', 'I', 'F'],\n",
       "       ['J', 'B', 'G', 'C', 'F', 'A', 'H', 'D', 'E', 'I'],\n",
       "       ['A', 'H', 'B', 'I', 'E', 'J', 'C', 'F', 'D', 'G'],\n",
       "       ['I', 'G', 'J', 'H', 'B', 'A', 'F', 'E', 'D', 'C'],\n",
       "       ['C', 'A', 'D', 'G', 'J', 'I', 'F', 'E', 'B', 'H'],\n",
       "       ['A', 'H', 'E', 'G', 'J', 'D', 'F', 'B', 'I', 'C'],\n",
       "       ['E', 'G', 'C', 'J', 'A', 'B', 'D', 'F', 'H', 'I'],\n",
       "       ['D', 'E', 'B', 'F', 'I', 'C', 'H', 'A', 'J', 'G'],\n",
       "       ['I', 'B', 'J', 'A', 'H', 'G', 'F', 'D', 'E', 'C'],\n",
       "       ['B', 'E', 'G', 'C', 'H', 'I', 'D', 'J', 'F', 'A'],\n",
       "       ['A', 'F', 'E', 'G', 'I', 'D', 'C', 'J', 'H', 'B'],\n",
       "       ['D', 'I', 'C', 'A', 'F', 'H', 'E', 'J', 'G', 'B'],\n",
       "       ['G', 'H', 'F', 'I', 'E', 'J', 'C', 'B', 'A', 'D'],\n",
       "       ['I', 'F', 'H', 'B', 'G', 'J', 'E', 'A', 'C', 'D'],\n",
       "       ['B', 'G', 'E', 'A', 'J', 'D', 'C', 'H', 'I', 'F'],\n",
       "       ['G', 'I', 'F', 'J', 'C', 'E', 'H', 'B', 'A', 'D'],\n",
       "       ['H', 'I', 'E', 'B', 'J', 'C', 'F', 'A', 'G', 'D'],\n",
       "       ['C', 'D', 'F', 'A', 'G', 'B', 'J', 'H', 'I', 'E'],\n",
       "       ['C', 'I', 'D', 'J', 'B', 'E', 'G', 'H', 'F', 'A'],\n",
       "       ['D', 'B', 'A', 'G', 'C', 'H', 'F', 'E', 'J', 'I'],\n",
       "       ['I', 'H', 'E', 'C', 'F', 'J', 'B', 'A', 'G', 'D'],\n",
       "       ['F', 'I', 'E', 'G', 'H', 'A', 'J', 'C', 'D', 'B'],\n",
       "       ['F', 'H', 'E', 'J', 'I', 'C', 'G', 'D', 'B', 'A'],\n",
       "       ['B', 'A', 'F', 'E', 'I', 'G', 'D', 'C', 'H', 'J'],\n",
       "       ['J', 'B', 'H', 'A', 'C', 'E', 'F', 'G', 'I', 'D'],\n",
       "       ['F', 'I', 'C', 'G', 'D', 'A', 'E', 'H', 'B', 'J'],\n",
       "       ['J', 'A', 'H', 'I', 'D', 'E', 'B', 'C', 'F', 'G']], dtype='<U1')"
      ]
     },
     "execution_count": 5,
     "metadata": {},
     "output_type": "execute_result"
    }
   ],
   "source": [
    "# First step: Create the first population set\n",
    "def genesis(city_list, n_population):\n",
    "\n",
    "    population_set = []\n",
    "    for i in range(n_population):\n",
    "        #Randomly generating a new solution\n",
    "        sol_i = city_list[np.random.choice(list(range(n_cities)), n_cities, replace=False)]\n",
    "        population_set.append(sol_i)\n",
    "    return np.array(population_set)\n",
    "\n",
    "population_set = genesis(names_list, n_population)\n",
    "population_set"
   ]
  },
  {
   "cell_type": "code",
   "execution_count": 6,
   "id": "ce21df4a",
   "metadata": {},
   "outputs": [],
   "source": [
    "# 2. Evaluation of the fitness\n",
    "\n",
    "#individual solution\n",
    "def fitness_eval(city_list, cities_dict):\n",
    "    total = 0\n",
    "    for i in range(n_cities-1):\n",
    "        a = city_list[i]\n",
    "        b = city_list[i+1]\n",
    "        total += compute_city_distance_names(a,b, cities_dict)\n",
    "    return total"
   ]
  },
  {
   "cell_type": "code",
   "execution_count": 7,
   "id": "7e9bf147",
   "metadata": {},
   "outputs": [
    {
     "data": {
      "text/plain": [
       "100"
      ]
     },
     "execution_count": 7,
     "metadata": {},
     "output_type": "execute_result"
    }
   ],
   "source": [
    "#All solutions\n",
    "def get_all_fitnes(population_set, cities_dict,n_population):\n",
    "    fitnes_list = np.zeros(n_population)\n",
    "\n",
    "    #Looping over all solutions computing the fitness for each solution\n",
    "    for i in  range(n_population):\n",
    "        fitnes_list[i] = fitness_eval(population_set[i], cities_dict)\n",
    "\n",
    "    return fitnes_list\n",
    "                   \n",
    "fitnes_list = get_all_fitnes(population_set,cities_dict,n_population)\n",
    "len(fitnes_list)"
   ]
  },
  {
   "cell_type": "code",
   "execution_count": 19,
   "id": "7f7a1b4b",
   "metadata": {},
   "outputs": [
    {
     "name": "stdout",
     "output_type": "stream",
     "text": [
      "100 100\n"
     ]
    },
    {
     "data": {
      "text/plain": [
       "array(['D', 'C', 'E', 'B', 'J', 'A', 'H', 'I', 'G', 'F'], dtype='<U1')"
      ]
     },
     "execution_count": 19,
     "metadata": {},
     "output_type": "execute_result"
    }
   ],
   "source": [
    "# 3. Selecting the progenitors\n",
    "## 3a. Roulette selection\n",
    "def roulette_selection(population_set,fitnes_list):\n",
    "    total_fit = fitnes_list.sum()\n",
    "    prob_list = fitnes_list/total_fit\n",
    "\n",
    "    #Notice there is the chance that a progenitor. mates with oneself\n",
    "    progenitor_list_a = np.random.choice(list(range(len(population_set))), len(population_set),p=prob_list, replace=True)\n",
    "    progenitor_list_b = np.random.choice(list(range(len(population_set))), len(population_set),p=prob_list, replace=True)\n",
    "    \n",
    "    progenitor_list_a = population_set[progenitor_list_a]\n",
    "    progenitor_list_b = population_set[progenitor_list_b]\n",
    "    \n",
    "    \n",
    "    return np.array([progenitor_list_a,progenitor_list_b])\n",
    "\n",
    "\n",
    "progenitor_list = roulette_selection(population_set,fitnes_list)\n",
    "progenitor_list[0][2]"
   ]
  },
  {
   "cell_type": "code",
   "execution_count": 27,
   "id": "61e9a796",
   "metadata": {},
   "outputs": [
    {
     "data": {
      "text/plain": [
       "array([[['I', 'H', 'E', ..., 'A', 'G', 'D'],\n",
       "        ['C', 'I', 'J', ..., 'H', 'F', 'B'],\n",
       "        ['A', 'B', 'C', ..., 'H', 'E', 'D'],\n",
       "        ...,\n",
       "        ['H', 'E', 'D', ..., 'B', 'F', 'A'],\n",
       "        ['I', 'F', 'H', ..., 'A', 'C', 'D'],\n",
       "        ['I', 'F', 'H', ..., 'A', 'C', 'D']],\n",
       "\n",
       "       [['F', 'I', 'E', ..., 'C', 'D', 'B'],\n",
       "        ['F', 'I', 'C', ..., 'H', 'B', 'J'],\n",
       "        ['J', 'C', 'F', ..., 'I', 'G', 'B'],\n",
       "        ...,\n",
       "        ['A', 'H', 'E', ..., 'B', 'I', 'C'],\n",
       "        ['C', 'D', 'F', ..., 'H', 'I', 'E'],\n",
       "        ['J', 'I', 'C', ..., 'A', 'F', 'D']]], dtype='<U1')"
      ]
     },
     "execution_count": 27,
     "metadata": {},
     "output_type": "execute_result"
    }
   ],
   "source": [
    "## 3b. Tournament Selection\n",
    "def tournament_selection(population_set, fitnes_list):\n",
    "    progenitor_list = [[],[]]\n",
    "    for i in range(2):\n",
    "        temp_list_a = np.random.choice(list(range(len(population_set))), len(population_set), replace=True)\n",
    "        temp_list_b = np.random.choice(list(range(len(population_set))), len(population_set), replace=True)\n",
    "        for j in range(len(temp_list_a)):\n",
    "            fitnes_a = fitnes_list[temp_list_a[i]]\n",
    "            fitnes_b = fitnes_list[temp_list_b[i]]\n",
    "            if fitnes_b>fitnes_a:\n",
    "                temp_list_a[i] = temp_list_b[i]\n",
    "        progenitor_list[i] = temp_list_a.copy()\n",
    "        \n",
    "    progenitor_list[0] = population_set[progenitor_list[0]]\n",
    "    progenitor_list[1] = population_set[progenitor_list[1]]\n",
    "    return np.array(progenitor_list)\n",
    "\n",
    "progenitor_list = tournament_selection(population_set,fitnes_list)\n",
    "progenitor_list"
   ]
  },
  {
   "cell_type": "code",
   "execution_count": 10,
   "id": "3d185013",
   "metadata": {},
   "outputs": [
    {
     "data": {
      "text/plain": [
       "array(['E', 'C', 'B', 'A', 'H', 'J', 'F', 'G', 'D', 'I'], dtype='<U1')"
      ]
     },
     "execution_count": 10,
     "metadata": {},
     "output_type": "execute_result"
    }
   ],
   "source": [
    "# Pairs crossover\n",
    "def mate_progenitors(prog_a, prog_b):\n",
    "    offspring = prog_a[0:5]\n",
    "\n",
    "    for city in prog_b:\n",
    "\n",
    "        if not city in offspring:\n",
    "            offspring = np.concatenate((offspring,[city]))\n",
    "\n",
    "    return offspring\n",
    "            \n",
    "    \n",
    "# Finding pairs of mates\n",
    "def mate_population(progenitor_list):\n",
    "    new_population_set = []\n",
    "    for i in range(progenitor_list.shape[1]):\n",
    "        prog_a, prog_b = progenitor_list[0][i], progenitor_list[1][i]\n",
    "        offspring = mate_progenitors(prog_a, prog_b)\n",
    "        new_population_set.append(offspring)\n",
    "        \n",
    "    return new_population_set\n",
    "\n",
    "new_population_set = mate_population(progenitor_list)\n",
    "new_population_set[0]"
   ]
  },
  {
   "cell_type": "code",
   "execution_count": 11,
   "id": "b59cde66",
   "metadata": {},
   "outputs": [
    {
     "data": {
      "text/plain": [
       "array(['E', 'H', 'B', 'I', 'C', 'G', 'F', 'J', 'D', 'A'], dtype='<U1')"
      ]
     },
     "execution_count": 11,
     "metadata": {},
     "output_type": "execute_result"
    }
   ],
   "source": [
    "#Offspring production\n",
    "def mutate_offspring(offspring):\n",
    "    for q in range(int(n_cities*mutation_rate)):\n",
    "        a = np.random.randint(0,n_cities)\n",
    "        b = np.random.randint(0,n_cities)\n",
    "\n",
    "        offspring[a], offspring[b] = offspring[b], offspring[a]\n",
    "\n",
    "    return offspring\n",
    "    \n",
    "# New populaiton generation\n",
    "def mutate_population(new_population_set):\n",
    "    mutated_pop = []\n",
    "    for offspring in new_population_set:\n",
    "        mutated_pop.append(mutate_offspring(offspring))\n",
    "    return mutated_pop\n",
    "mutated_pop = mutate_population(new_population_set)\n",
    "mutated_pop[0]"
   ]
  },
  {
   "cell_type": "code",
   "execution_count": 12,
   "id": "6985a631",
   "metadata": {},
   "outputs": [
    {
     "name": "stdout",
     "output_type": "stream",
     "text": [
      "0 72.86363893918985 111.84370030598802 27/10/22 22:31\n",
      "100 78.90461439753727 106.31886987644194 27/10/22 22:31\n",
      "200 61.774948960722824 106.88804743700925 27/10/22 22:31\n",
      "300 70.65355566072336 109.58106921875645 27/10/22 22:31\n",
      "400 53.401712070141116 106.73505640804082 27/10/22 22:31\n",
      "500 67.33771091568491 107.86873280628544 27/10/22 22:31\n",
      "600 75.82741515022529 109.11682765072743 27/10/22 22:31\n",
      "700 66.8625064968127 110.33845500223353 27/10/22 22:31\n",
      "800 70.1105552196665 110.13671299423453 27/10/22 22:31\n",
      "900 59.342519678607225 112.04333843907558 27/10/22 22:31\n"
     ]
    }
   ],
   "source": [
    "# Everything put together\n",
    "best_solution = [-1,np.inf,np.array([])]\n",
    "for i in range(1000):\n",
    "    if i%100==0: print(i, fitnes_list.min(), fitnes_list.mean(), datetime.now().strftime(\"%d/%m/%y %H:%M\"))\n",
    "    fitnes_list = get_all_fitnes(mutated_pop,cities_dict,n_population)\n",
    "    \n",
    "    #Saving the best solution\n",
    "    if fitnes_list.min() < best_solution[1]:\n",
    "        best_solution[0] = i\n",
    "        best_solution[1] = fitnes_list.min()\n",
    "        best_solution[2] = np.array(mutated_pop)[fitnes_list.min() == fitnes_list]\n",
    "    \n",
    "    progenitor_list = roulette_selection(population_set,fitnes_list)\n",
    "    new_population_set = mate_population(progenitor_list)\n",
    "    \n",
    "    mutated_pop = mutate_population(new_population_set)"
   ]
  },
  {
   "cell_type": "code",
   "execution_count": 13,
   "id": "b218d66a",
   "metadata": {},
   "outputs": [
    {
     "data": {
      "text/plain": [
       "[896,\n",
       " 47.43354151623015,\n",
       " array([['I', 'C', 'A', 'G', 'E', 'D', 'H', 'J', 'F', 'B']], dtype='<U1')]"
      ]
     },
     "execution_count": 13,
     "metadata": {},
     "output_type": "execute_result"
    }
   ],
   "source": [
    "best_solution"
   ]
  },
  {
   "cell_type": "code",
   "execution_count": 14,
   "id": "b17d2fae",
   "metadata": {},
   "outputs": [
    {
     "data": {
      "image/png": "[encoded data removed]",
      "text/plain": [
       "<Figure size 720x720 with 1 Axes>"
      ]
     },
     "metadata": {
      "needs_background": "light"
     },
     "output_type": "display_data"
    },
    {
     "data": {
      "image/png": "[encoded data removed]",
      "text/plain": [
       "<Figure size 432x288 with 1 Axes>"
      ]
     },
     "metadata": {
      "needs_background": "light"
     },
     "output_type": "display_data"
    }
   ],
   "source": [
    "draw_map(cities_dict,route = best_solution[2][0])"
   ]
  },
  {
   "cell_type": "code",
   "execution_count": null,
   "id": "ba95200d",
   "metadata": {},
   "outputs": [],
   "source": []
  }
 ],
 "metadata": {
  "kernelspec": {
   "display_name": "Python 3 (ipykernel)",
   "language": "python",
   "name": "python3"
  },
  "language_info": {
   "codemirror_mode": {
    "name": "ipython",
    "version": 3
   },
   "file_extension": ".py",
   "mimetype": "text/x-python",
   "name": "python",
   "nbconvert_exporter": "python",
   "pygments_lexer": "ipython3",
   "version": "3.8.5"
  }
 },
 "nbformat": 4,
 "nbformat_minor": 5
}
